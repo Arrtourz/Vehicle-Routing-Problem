{
 "cells": [
  {
   "cell_type": "code",
   "execution_count": 23,
   "metadata": {},
   "outputs": [
    {
     "name": "stdout",
     "output_type": "stream",
     "text": [
      "Epoch 1/10\n",
      "100/100 [==============================] - 5s 49ms/step - loss: 9.3533\n",
      "Epoch 2/10\n",
      "100/100 [==============================] - 3s 28ms/step - loss: 9.3533\n",
      "Epoch 3/10\n",
      "100/100 [==============================] - 3s 27ms/step - loss: 9.3533\n",
      "Epoch 4/10\n",
      "100/100 [==============================] - 3s 27ms/step - loss: 9.3533\n",
      "Epoch 5/10\n",
      "100/100 [==============================] - 2s 24ms/step - loss: 9.3533\n",
      "Epoch 6/10\n",
      "100/100 [==============================] - 2s 25ms/step - loss: 9.3533\n",
      "Epoch 7/10\n",
      "100/100 [==============================] - 3s 27ms/step - loss: 9.3533\n",
      "Epoch 8/10\n",
      "100/100 [==============================] - 3s 26ms/step - loss: 9.3533\n",
      "Epoch 9/10\n",
      "100/100 [==============================] - 2s 24ms/step - loss: 9.3533\n",
      "Epoch 10/10\n",
      "100/100 [==============================] - 3s 26ms/step - loss: 9.3533\n"
     ]
    }
   ],
   "source": [
    "import keras\n",
    "from keras.layers import Conv1D, Dense, MaxPool1D, concatenate, Flatten\n",
    "from keras import Input, Model\n",
    "from keras.utils import plot_model\n",
    "import numpy as np\n",
    "\n",
    "def Threeinputmodel():\n",
    "    # define two sets of inputs\n",
    "    input1_ = Input(shape=(200, 1), name='O')\n",
    "    input2_ = Input(shape=(200, 1), name='D')\n",
    "    input3_ = Input(shape=(200, 1), name='V')\n",
    "    \n",
    "    #->conv+maxpool->conv+maxpool for 3 inputs\n",
    "    x1 = Conv1D(16, kernel_size=5, strides=1, activation='linear', padding='same')(input1_)\n",
    "    x1 = MaxPool1D(pool_size=2, strides=1)(x1)\n",
    "    x1 = Conv1D(32, kernel_size=9, strides=1, activation='linear', padding='same')(input1_)\n",
    "    x1 = MaxPool1D(pool_size=2, strides=1)(x1)\n",
    "    \n",
    "    x2 = Conv1D(16, kernel_size=9, strides=1, activation='linear', padding='same')(input2_)\n",
    "    x2 = MaxPool1D(pool_size=2, strides=1)(x2)\n",
    "    x2 = Conv1D(32, kernel_size=9, strides=1, activation='linear', padding='same')(input2_)\n",
    "    x2 = MaxPool1D(pool_size=2, strides=1)(x2)\n",
    "    \n",
    "    x3 = Conv1D(16, kernel_size=9, strides=1, activation='linear', padding='same')(input3_)\n",
    "    x3 = MaxPool1D(pool_size=2, strides=1)(x3)\n",
    "    x3 = Conv1D(32, kernel_size=9, strides=1, activation='linear', padding='same')(input3_)\n",
    "    x3 = MaxPool1D(pool_size=2, strides=1)(x3)    \n",
    "\n",
    "    # combine 3 output to a shared hidden layer\n",
    "    x = concatenate([x1, x2, x3])\n",
    "    x = Flatten()(x)\n",
    "    \n",
    "    #3 FCC layers\n",
    "    x = Dense(1000, activation='linear')(x)\n",
    "    x = Dense(100, activation='linear')(x)\n",
    "    output_ = Dense(1, activation='softmax', name='output')(x)\n",
    " \n",
    "    model = Model(inputs=[input1_, input2_, input3_], outputs=[output_]) \n",
    "    return model\n",
    "#example\n",
    "if __name__ == '__main__':\n",
    "    x1 = np.random.rand(100, 200, 1)\n",
    "    x2 = np.random.rand(100, 200, 1)\n",
    "    x3 = np.random.rand(100, 200, 1)\n",
    "    model = Threeinputmodel()\n",
    "    model.compile(optimizer='adam', loss='binary_crossentropy')\n",
    "    model.fit([x1, x2, x3], y, epochs=10, batch_size=10)"
   ]
  },
  {
   "cell_type": "code",
   "execution_count": null,
   "metadata": {},
   "outputs": [],
   "source": []
  }
 ],
 "metadata": {
  "kernelspec": {
   "display_name": "Python 3",
   "language": "python",
   "name": "python3"
  },
  "language_info": {
   "codemirror_mode": {
    "name": "ipython",
    "version": 3
   },
   "file_extension": ".py",
   "mimetype": "text/x-python",
   "name": "python",
   "nbconvert_exporter": "python",
   "pygments_lexer": "ipython3",
   "version": "3.7.4"
  }
 },
 "nbformat": 4,
 "nbformat_minor": 2
}
