{
 "cells": [
  {
   "cell_type": "code",
   "execution_count": 34,
   "metadata": {},
   "outputs": [
    {
     "data": {
      "text/plain": [
       "array([[74.017, 40.703],\n",
       "       [74.015, 40.703],\n",
       "       [74.013, 40.702],\n",
       "       ...,\n",
       "       [74.009, 40.702],\n",
       "       [74.006, 40.702],\n",
       "       [73.924, 40.877]])"
      ]
     },
     "execution_count": 34,
     "metadata": {},
     "output_type": "execute_result"
    }
   ],
   "source": [
    "import numpy as np\n",
    "import torch\n",
    "a = np.loadtxt('real_location_matrix.txt')\n",
    "a_around=np.around(a, decimals=3)\n",
    "a_around"
   ]
  },
  {
   "cell_type": "code",
   "execution_count": 24,
   "metadata": {},
   "outputs": [
    {
     "data": {
      "text/plain": [
       "40.703"
      ]
     },
     "execution_count": 24,
     "metadata": {},
     "output_type": "execute_result"
    }
   ],
   "source": [
    "v_lon=[]\n",
    "v_lat=[]\n",
    "for i in range(1718):\n",
    "    v_lon.append(a_around[i,0])\n",
    "    v_lat.append(a_around[i,1])\n",
    "v_lat[0]"
   ]
  },
  {
   "cell_type": "code",
   "execution_count": 30,
   "metadata": {},
   "outputs": [
    {
     "data": {
      "text/plain": [
       "array([[106,   2],\n",
       "       [104,   2],\n",
       "       [102,   1],\n",
       "       ...,\n",
       "       [ 98,   1],\n",
       "       [ 95,   1],\n",
       "       [ 13, 176]])"
      ]
     },
     "execution_count": 30,
     "metadata": {},
     "output_type": "execute_result"
    }
   ],
   "source": [
    "x0=[]\n",
    "x1=[]\n",
    "for i in range(1718):\n",
    "    x0.append((v_lon[i]-73.911)*1000)\n",
    "    x1.append((v_lat[i]-40.701)*1000)\n",
    "x0=np.around(x0)\n",
    "x1=np.around(x1)\n",
    "x0_= np.reshape(x0, (1718,1))\n",
    "x1_= np.reshape(x1, (1718,1))\n",
    "x=np.concatenate((x0_,x1_),axis=1)\n",
    "x=np.int_(x)\n",
    "x"
   ]
  },
  {
   "cell_type": "code",
   "execution_count": 37,
   "metadata": {},
   "outputs": [],
   "source": [
    "V=np.zeros((1718,200,200),dtype=int)\n",
    "for i in range(1000):\n",
    "    V[i,x[i,0],x[i,1]]=1\n",
    "V=torch.from_numpy(V)"
   ]
  },
  {
   "cell_type": "code",
   "execution_count": null,
   "metadata": {},
   "outputs": [],
   "source": []
  }
 ],
 "metadata": {
  "kernelspec": {
   "display_name": "Python 3",
   "language": "python",
   "name": "python3"
  },
  "language_info": {
   "codemirror_mode": {
    "name": "ipython",
    "version": 3
   },
   "file_extension": ".py",
   "mimetype": "text/x-python",
   "name": "python",
   "nbconvert_exporter": "python",
   "pygments_lexer": "ipython3",
   "version": "3.7.4"
  }
 },
 "nbformat": 4,
 "nbformat_minor": 2
}
