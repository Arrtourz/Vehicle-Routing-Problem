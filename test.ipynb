{
 "cells": [
  {
   "cell_type": "code",
   "execution_count": 3,
   "metadata": {},
   "outputs": [],
   "source": [
    "from data_loader import *"
   ]
  },
  {
   "cell_type": "code",
   "execution_count": 10,
   "metadata": {},
   "outputs": [],
   "source": [
    "PARAMS = {'seed': 1234,\n",
    "          'batch_size': 1,\n",
    "          'n_samples': 10,\n",
    "          'split': [0.7, 0.2, 0.1]}\n",
    "dataset = Dataset(PARAMS, \"train\", \"cpu\")"
   ]
  },
  {
   "cell_type": "code",
   "execution_count": 11,
   "metadata": {},
   "outputs": [
    {
     "name": "stdout",
     "output_type": "stream",
     "text": [
      "tensor([[ 40.7516, -73.9786,  40.7775, -73.9567,  40.7558, -73.9900,  40.7210,\n",
      "         -73.9787,  40.7272, -74.0074,  40.7500, -73.9951,  40.7245, -74.0019,\n",
      "          40.7646, -73.9731,  40.7619, -73.9662,  40.7587, -73.9758,  40.7789,\n",
      "         -73.9452,  40.7926, -73.9753,  40.7527, -73.9895,  40.7702, -73.9574,\n",
      "          40.7430, -73.9739,  40.7625, -73.9684,  40.7492, -74.0056,  40.7382,\n",
      "         -74.0064,  40.7639, -73.9834,  40.7635, -73.9851]]) tensor([[ 42.2696, -83.7394,  42.2696, -83.7394,  42.2696, -83.7394,  42.2696,\n",
      "         -83.7394,  42.2696, -83.7394]]) tensor([[1., 0., 0., 0., 0., 0., 1., 0., 0., 0., 1., 0., 0., 0., 0., 0., 0., 0.,\n",
      "         0., 0., 0., 0., 0., 0., 1., 0., 0., 1., 0., 0., 0., 0., 0., 0., 1., 0.,\n",
      "         0., 0., 0., 1., 0., 0., 0., 1., 0., 0., 1., 0., 0., 0.]])\n",
      "10 5\n"
     ]
    }
   ],
   "source": [
    "\n",
    "\n",
    "\n",
    "for (x,z,y) in dataset:\n",
    "    print(x, z, y)\n",
    "    break\n",
    "\n",
    "print(dataset.size_p, dataset.size_v)"
   ]
  },
  {
   "cell_type": "code",
   "execution_count": 107,
   "metadata": {},
   "outputs": [],
   "source": [
    "import torch\n",
    "import torch.nn as nn\n",
    "import torch.nn.functional as F\n",
    "Ten = torch.FloatTensor\n",
    "\n",
    "class Net(nn.Module):\n",
    "    def __init__(self, size_p, size_v):\n",
    "        \"\"\" There are size_p output layers (one for each passenger) \n",
    "            of size size_v. The semantic of each of these outputs\n",
    "            is to likelihood that passenger p will be in vechile v\n",
    "        \"\"\"\n",
    "        super(Net, self).__init__()\n",
    "        self._ip = size_p*4\n",
    "        self._iv = size_v*2\n",
    "        self._hp = size_p*2\n",
    "        self._hv = size_v\n",
    "        self._h = size_v\n",
    "        self._af = nn.ReLU\n",
    "        self._of = nn.Sigmoid\n",
    "        self._passengers = list(range(size_p))\n",
    "\n",
    "        self.i_layer_P = nn.Sequential(\n",
    "            nn.Linear(self._ip, self._hp),\n",
    "            nn.BatchNorm1d(self._hp),\n",
    "            self._af(inplace=True)\n",
    "        )\n",
    "        \n",
    "        self.i_layer_V = nn.Sequential(\n",
    "            nn.Linear(self._iv, self._hv),\n",
    "            nn.BatchNorm1d(self._hv),\n",
    "            self._af(inplace=True)\n",
    "        )\n",
    "        \n",
    "        self.h_layer = nn.Sequential(\n",
    "            nn.Linear(self._hp + self._hv, self._h),\n",
    "            nn.BatchNorm1d(self._h),\n",
    "            self._af(inplace=True)\n",
    "        ) \n",
    "        \n",
    "        self.o_layers = {p: nn.Sequential(\n",
    "            nn.Linear(self._h, size_v),\n",
    "            #nn.Sigmoid()\n",
    "            nn.Softmax(dim=1)\n",
    "            ) for p in self._passengers}\n",
    "             \n",
    "    def forward(self, p, v):\n",
    "        hp = self.i_layer_P(p)\n",
    "        hv = self.i_layer_V(v)\n",
    "        hout = self.h_layer(torch.cat((hp, hv),1))\n",
    "        o = [self.o_layers[p](hout) for p in self._passengers]\n",
    "        return torch.cat(o,1)\n",
    "        #return torch.cat(tuple(self.o_layers[p](o) for p in self._passengers))"
   ]
  },
  {
   "cell_type": "code",
   "execution_count": 108,
   "metadata": {},
   "outputs": [],
   "source": [
    "net = Net(dataset.size_p, dataset.size_v)\n",
    "optimizer = torch.optim.Adam(net.parameters(), lr=0.001)\n",
    "loss = nn.MSELoss()"
   ]
  },
  {
   "cell_type": "code",
   "execution_count": 109,
   "metadata": {},
   "outputs": [
    {
     "name": "stdout",
     "output_type": "stream",
     "text": [
      "tensor(0.1556, grad_fn=<MseLossBackward>)\n",
      "tensor(0.1494, grad_fn=<MseLossBackward>)\n",
      "tensor(0.1476, grad_fn=<MseLossBackward>)\n",
      "tensor(0.1470, grad_fn=<MseLossBackward>)\n",
      "tensor(0.1467, grad_fn=<MseLossBackward>)\n",
      "tensor(0.1464, grad_fn=<MseLossBackward>)\n",
      "tensor(0.1462, grad_fn=<MseLossBackward>)\n",
      "tensor(0.1459, grad_fn=<MseLossBackward>)\n",
      "tensor(0.1457, grad_fn=<MseLossBackward>)\n",
      "tensor(0.1456, grad_fn=<MseLossBackward>)\n",
      "tensor(0.1455, grad_fn=<MseLossBackward>)\n",
      "tensor(0.1456, grad_fn=<MseLossBackward>)\n",
      "tensor(0.1453, grad_fn=<MseLossBackward>)\n",
      "tensor(0.1453, grad_fn=<MseLossBackward>)\n",
      "tensor(0.1453, grad_fn=<MseLossBackward>)\n",
      "tensor(0.1453, grad_fn=<MseLossBackward>)\n",
      "tensor(0.1452, grad_fn=<MseLossBackward>)\n",
      "tensor(0.1451, grad_fn=<MseLossBackward>)\n",
      "tensor(0.1452, grad_fn=<MseLossBackward>)\n",
      "tensor(0.1451, grad_fn=<MseLossBackward>)\n",
      "tensor(0.1450, grad_fn=<MseLossBackward>)\n",
      "tensor(0.1449, grad_fn=<MseLossBackward>)\n",
      "tensor(0.1450, grad_fn=<MseLossBackward>)\n",
      "tensor(0.1449, grad_fn=<MseLossBackward>)\n",
      "tensor(0.1449, grad_fn=<MseLossBackward>)\n",
      "tensor(0.1448, grad_fn=<MseLossBackward>)\n",
      "tensor(0.1448, grad_fn=<MseLossBackward>)\n",
      "tensor(0.1449, grad_fn=<MseLossBackward>)\n",
      "tensor(0.1447, grad_fn=<MseLossBackward>)\n",
      "tensor(0.1448, grad_fn=<MseLossBackward>)\n",
      "tensor(0.1447, grad_fn=<MseLossBackward>)\n",
      "tensor(0.1448, grad_fn=<MseLossBackward>)\n",
      "tensor(0.1448, grad_fn=<MseLossBackward>)\n",
      "tensor(0.1447, grad_fn=<MseLossBackward>)\n",
      "tensor(0.1447, grad_fn=<MseLossBackward>)\n",
      "tensor(0.1449, grad_fn=<MseLossBackward>)\n",
      "tensor(0.1446, grad_fn=<MseLossBackward>)\n",
      "tensor(0.1447, grad_fn=<MseLossBackward>)\n",
      "tensor(0.1446, grad_fn=<MseLossBackward>)\n",
      "tensor(0.1447, grad_fn=<MseLossBackward>)\n",
      "tensor(0.1447, grad_fn=<MseLossBackward>)\n",
      "tensor(0.1446, grad_fn=<MseLossBackward>)\n",
      "tensor(0.1447, grad_fn=<MseLossBackward>)\n",
      "tensor(0.1448, grad_fn=<MseLossBackward>)\n",
      "tensor(0.1446, grad_fn=<MseLossBackward>)\n",
      "tensor(0.1446, grad_fn=<MseLossBackward>)\n",
      "tensor(0.1445, grad_fn=<MseLossBackward>)\n",
      "tensor(0.1445, grad_fn=<MseLossBackward>)\n",
      "tensor(0.1445, grad_fn=<MseLossBackward>)\n",
      "tensor(0.1444, grad_fn=<MseLossBackward>)\n",
      "tensor(0.1444, grad_fn=<MseLossBackward>)\n",
      "tensor(0.1444, grad_fn=<MseLossBackward>)\n",
      "tensor(0.1444, grad_fn=<MseLossBackward>)\n",
      "tensor(0.1444, grad_fn=<MseLossBackward>)\n",
      "tensor(0.1444, grad_fn=<MseLossBackward>)\n",
      "tensor(0.1443, grad_fn=<MseLossBackward>)\n",
      "tensor(0.1443, grad_fn=<MseLossBackward>)\n",
      "tensor(0.1444, grad_fn=<MseLossBackward>)\n",
      "tensor(0.1444, grad_fn=<MseLossBackward>)\n",
      "tensor(0.1444, grad_fn=<MseLossBackward>)\n",
      "tensor(0.1443, grad_fn=<MseLossBackward>)\n",
      "tensor(0.1443, grad_fn=<MseLossBackward>)\n",
      "tensor(0.1444, grad_fn=<MseLossBackward>)\n",
      "tensor(0.1443, grad_fn=<MseLossBackward>)\n",
      "tensor(0.1445, grad_fn=<MseLossBackward>)\n",
      "tensor(0.1444, grad_fn=<MseLossBackward>)\n",
      "tensor(0.1444, grad_fn=<MseLossBackward>)\n",
      "tensor(0.1443, grad_fn=<MseLossBackward>)\n",
      "tensor(0.1443, grad_fn=<MseLossBackward>)\n"
     ]
    },
    {
     "ename": "KeyboardInterrupt",
     "evalue": "",
     "output_type": "error",
     "traceback": [
      "\u001b[0;31m---------------------------------------------------------------------------\u001b[0m",
      "\u001b[0;31mKeyboardInterrupt\u001b[0m                         Traceback (most recent call last)",
      "\u001b[0;32m<ipython-input-109-1d747f547253>\u001b[0m in \u001b[0;36m<module>\u001b[0;34m()\u001b[0m\n\u001b[1;32m      4\u001b[0m         \u001b[0mL\u001b[0m \u001b[0;34m=\u001b[0m \u001b[0mloss\u001b[0m\u001b[0;34m(\u001b[0m\u001b[0my_pred\u001b[0m\u001b[0;34m,\u001b[0m \u001b[0my\u001b[0m\u001b[0;34m)\u001b[0m\u001b[0;34m\u001b[0m\u001b[0m\n\u001b[1;32m      5\u001b[0m         \u001b[0moptimizer\u001b[0m\u001b[0;34m.\u001b[0m\u001b[0mzero_grad\u001b[0m\u001b[0;34m(\u001b[0m\u001b[0;34m)\u001b[0m\u001b[0;34m\u001b[0m\u001b[0m\n\u001b[0;32m----> 6\u001b[0;31m         \u001b[0mL\u001b[0m\u001b[0;34m.\u001b[0m\u001b[0mbackward\u001b[0m\u001b[0;34m(\u001b[0m\u001b[0;34m)\u001b[0m\u001b[0;34m\u001b[0m\u001b[0m\n\u001b[0m\u001b[1;32m      7\u001b[0m         \u001b[0moptimizer\u001b[0m\u001b[0;34m.\u001b[0m\u001b[0mstep\u001b[0m\u001b[0;34m(\u001b[0m\u001b[0;34m)\u001b[0m\u001b[0;34m\u001b[0m\u001b[0m\n\u001b[1;32m      8\u001b[0m     \u001b[0;32mif\u001b[0m \u001b[0me\u001b[0m \u001b[0;34m%\u001b[0m \u001b[0;36m10\u001b[0m \u001b[0;34m==\u001b[0m \u001b[0;36m0\u001b[0m\u001b[0;34m:\u001b[0m\u001b[0;34m\u001b[0m\u001b[0m\n",
      "\u001b[0;32m~/.local/lib/python3.7/site-packages/torch/tensor.py\u001b[0m in \u001b[0;36mbackward\u001b[0;34m(self, gradient, retain_graph, create_graph)\u001b[0m\n\u001b[1;32m    164\u001b[0m                 \u001b[0mproducts\u001b[0m\u001b[0;34m.\u001b[0m \u001b[0mDefaults\u001b[0m \u001b[0mto\u001b[0m\u001b[0;31m \u001b[0m\u001b[0;31m`\u001b[0m\u001b[0;31m`\u001b[0m\u001b[0;32mFalse\u001b[0m\u001b[0;31m`\u001b[0m\u001b[0;31m`\u001b[0m\u001b[0;34m.\u001b[0m\u001b[0;34m\u001b[0m\u001b[0m\n\u001b[1;32m    165\u001b[0m         \"\"\"\n\u001b[0;32m--> 166\u001b[0;31m         \u001b[0mtorch\u001b[0m\u001b[0;34m.\u001b[0m\u001b[0mautograd\u001b[0m\u001b[0;34m.\u001b[0m\u001b[0mbackward\u001b[0m\u001b[0;34m(\u001b[0m\u001b[0mself\u001b[0m\u001b[0;34m,\u001b[0m \u001b[0mgradient\u001b[0m\u001b[0;34m,\u001b[0m \u001b[0mretain_graph\u001b[0m\u001b[0;34m,\u001b[0m \u001b[0mcreate_graph\u001b[0m\u001b[0;34m)\u001b[0m\u001b[0;34m\u001b[0m\u001b[0m\n\u001b[0m\u001b[1;32m    167\u001b[0m \u001b[0;34m\u001b[0m\u001b[0m\n\u001b[1;32m    168\u001b[0m     \u001b[0;32mdef\u001b[0m \u001b[0mregister_hook\u001b[0m\u001b[0;34m(\u001b[0m\u001b[0mself\u001b[0m\u001b[0;34m,\u001b[0m \u001b[0mhook\u001b[0m\u001b[0;34m)\u001b[0m\u001b[0;34m:\u001b[0m\u001b[0;34m\u001b[0m\u001b[0m\n",
      "\u001b[0;32m~/.local/lib/python3.7/site-packages/torch/autograd/__init__.py\u001b[0m in \u001b[0;36mbackward\u001b[0;34m(tensors, grad_tensors, retain_graph, create_graph, grad_variables)\u001b[0m\n\u001b[1;32m     97\u001b[0m     Variable._execution_engine.run_backward(\n\u001b[1;32m     98\u001b[0m         \u001b[0mtensors\u001b[0m\u001b[0;34m,\u001b[0m \u001b[0mgrad_tensors\u001b[0m\u001b[0;34m,\u001b[0m \u001b[0mretain_graph\u001b[0m\u001b[0;34m,\u001b[0m \u001b[0mcreate_graph\u001b[0m\u001b[0;34m,\u001b[0m\u001b[0;34m\u001b[0m\u001b[0m\n\u001b[0;32m---> 99\u001b[0;31m         allow_unreachable=True)  # allow_unreachable flag\n\u001b[0m\u001b[1;32m    100\u001b[0m \u001b[0;34m\u001b[0m\u001b[0m\n\u001b[1;32m    101\u001b[0m \u001b[0;34m\u001b[0m\u001b[0m\n",
      "\u001b[0;31mKeyboardInterrupt\u001b[0m: "
     ]
    }
   ],
   "source": [
    "for e in range(1000):\n",
    "    for (p, v, y) in dataset:\n",
    "        y_pred = net(p, v)\n",
    "        L = loss(y_pred, y)\n",
    "        optimizer.zero_grad()\n",
    "        L.backward()\n",
    "        optimizer.step()\n",
    "    if e % 10 == 0:\n",
    "        print(L)"
   ]
  },
  {
   "cell_type": "code",
   "execution_count": null,
   "metadata": {},
   "outputs": [],
   "source": []
  }
 ],
 "metadata": {
  "kernelspec": {
   "display_name": "Python 3",
   "language": "python",
   "name": "python3"
  },
  "language_info": {
   "codemirror_mode": {
    "name": "ipython",
    "version": 3
   },
   "file_extension": ".py",
   "mimetype": "text/x-python",
   "name": "python",
   "nbconvert_exporter": "python",
   "pygments_lexer": "ipython3",
   "version": "3.7.0"
  }
 },
 "nbformat": 4,
 "nbformat_minor": 4
}
